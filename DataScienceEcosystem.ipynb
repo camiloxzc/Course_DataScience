{
  "metadata": {
    "kernelspec": {
      "name": "python",
      "display_name": "Python (Pyodide)",
      "language": "python"
    },
    "language_info": {
      "codemirror_mode": {
        "name": "python",
        "version": 3
      },
      "file_extension": ".py",
      "mimetype": "text/x-python",
      "name": "python",
      "nbconvert_exporter": "python",
      "pygments_lexer": "ipython3",
      "version": "3.8"
    }
  },
  "nbformat_minor": 4,
  "nbformat": 4,
  "cells": [
    {
      "cell_type": "markdown",
      "source": "#### Exercise 2 - Create a markdown cell with the title of the notebook. (1 pt)\n# Data Science Tools and Ecosystem\n",
      "metadata": {}
    },
    {
      "cell_type": "markdown",
      "source": "#### Exercise 3 - Create a markdown cell for an introduction. (1 pt)\n### In this notebook, Data Science Tools and Ecosystem are summarized.",
      "metadata": {}
    },
    {
      "cell_type": "markdown",
      "source": "#### Exercise 4 - Create a markdown cell to list data science languages. (3 pts)\nSome of the popular languages that Data Scientists use are:\n\n1. Python  \n2. R  \n3. SQL  \n4. Julia  \n5. Scala",
      "metadata": {}
    },
    {
      "cell_type": "markdown",
      "source": "#### Exercise 5 - Create a markdown cell to list data science libraries. (3 pts)\nSome of the commonly used libraries used by Data Scientists include:\n\n1. NumPy  \n2. Pandas  \n3. Matplotlib  \n4. Scikit-learn  \n5. TensorFlow",
      "metadata": {}
    },
    {
      "cell_type": "markdown",
      "source": "#### Exercise 6 - Create a markdown cell with a table of Data Science tools. (3 pts)\n\n| Data Science Tools |\n|--------------------|\n| Jupyter Notebook   |\n| RStudio            |\n| Apache Zeppelin    |\n",
      "metadata": {}
    },
    {
      "cell_type": "markdown",
      "source": "#### Exercise 7 - Create a markdown cell introducing arithmetic expression examples. (1 pt)\n### Below are a few examples of evaluating arithmetic expressions in Python.\n\n- `3 + 5` results in **8**\n- `10 - 4` results in **6**\n- `6 * 7` results in **42**\n- `20 / 4` results in **5.0**\n- `2 ** 3` results in **8**\n",
      "metadata": {}
    },
    {
      "cell_type": "code",
      "source": "# Exercise 8 - Create a code cell to multiply and add numbers. (2 pts)\n# This is a simple arithmetic expression to multiply then add integers\n(3 * 4) + 5",
      "metadata": {
        "trusted": true
      },
      "outputs": [
        {
          "execution_count": 2,
          "output_type": "execute_result",
          "data": {
            "text/plain": "17"
          },
          "metadata": {}
        }
      ],
      "execution_count": 2
    },
    {
      "cell_type": "code",
      "source": "# Exercise 9 - Create a code cell to convert minutes to hours. (2 pts)\n# This will convert 200 minutes to hours by dividing by 60\n200 / 60",
      "metadata": {
        "trusted": true
      },
      "outputs": [
        {
          "execution_count": 3,
          "output_type": "execute_result",
          "data": {
            "text/plain": "3.3333333333333335"
          },
          "metadata": {}
        }
      ],
      "execution_count": 3
    },
    {
      "cell_type": "markdown",
      "source": "#### Exercise 10 -Insert a markdown cell to list Objectives. (3 pts)\n**Objectives:**\n\n- List popular languages for Data Science  \n- Introduce commonly used libraries for Data Science  \n- Create tables and lists using Markdown in Jupyter Notebooks  \n- Perform arithmetic operations using Python code  \n- Convert units using simple Python expressions\n",
      "metadata": {}
    },
    {
      "cell_type": "markdown",
      "source": "#### Exercise 11 - Create a markdown cell to indicate the Author’s name. (2 pts)\n## Author\n\nCamilo Orozco Arenas\n",
      "metadata": {}
    }
  ]
}